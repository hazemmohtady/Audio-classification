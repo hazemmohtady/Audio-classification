{
  "cells": [
    {
      "cell_type": "code",
      "execution_count": null,
      "metadata": {
        "id": "qWedT3U1Uav3"
      },
      "outputs": [],
      "source": [
        "import tensorflow as tf\n",
        "from tensorflow import keras\n",
        "from tensorflow.keras import layers,Model\n",
        "from keras.layers import Activation, Dense,Conv2D,Dropout,Activation,Flatten,MaxPooling2D\n",
        "from tensorflow.keras.models import Sequential\n",
        "import imblearn\n",
        "from imblearn.over_sampling import RandomOverSampler,SMOTE\n",
        "import pandas as pd\n",
        "import numpy as np\n",
        "import os\n",
        "from os import listdir\n",
        "from os.path import isfile, join\n",
        "import librosa\n",
        "from sklearn.model_selection import train_test_split\n",
        "import sounddevice as sd\n",
        "import numpy as np\n",
        "import scipy.io.wavfile as wav\n",
        "from scipy.io.wavfile import write\n",
        "\n",
        "\n"
      ]
    },
    {
      "cell_type": "code",
      "execution_count": null,
      "metadata": {
        "id": "euxYDvm2Uav5"
      },
      "outputs": [],
      "source": [
        "\n",
        "train_path='Train dataset path'\n",
        "test_path='test data set path'\n",
        "#the classification classes for audio files\n",
        "classes=['blue','change_color','green','high','low','noise','off','on','party','purple','red','sleep','unknown','wakeup','white','yellow']\n"
      ]
    },
    {
      "cell_type": "code",
      "execution_count": null,
      "metadata": {
        "id": "5ejxpPYvUav6"
      },
      "outputs": [],
      "source": [
        "#The function take a .wav file as input and return the features \n",
        "def features_extractorcnn(file_name):\n",
        "    audio, sample_rate = librosa.load(file_name) \n",
        "    mfccs_features =librosa.feature.melspectrogram(y=audio,sr=sample_rate)    \n",
        "    return mfccs_features.reshape(128,44,1)"
      ]
    },
    {
      "cell_type": "code",
      "execution_count": null,
      "metadata": {
        "id": "vGCdzVu_Uav7",
        "outputId": "41d9619a-6f6a-4a08-b46b-b9dfca3e475e"
      },
      "outputs": [
        {
          "data": {
            "text/plain": [
              "(128, 44, 1)"
            ]
          },
          "execution_count": 5,
          "metadata": {},
          "output_type": "execute_result"
        }
      ],
      "source": [
        "\n",
        "features_extractorcnn('blue.unknown.2uelmobe.ingestion-5b9bcd5b54-nclkz.wav').shape"
      ]
    },
    {
      "cell_type": "code",
      "execution_count": null,
      "metadata": {
        "id": "GHEI-QB2Uav8"
      },
      "outputs": [],
      "source": [
        "\n",
        "# getting features of all training dataset and save it in a variable for model trainin\n",
        "x=np.array([features_extractorcnn(train_path+'\\\\'+f) for f in listdir(train_path) if isfile(join(train_path, f))])\n",
        "x_test=np.array([features_extractorcnn(test_path+'\\\\'+f) for f in listdir(test_path) if isfile(join(test_path, f))])\n",
        "\n"
      ]
    },
    {
      "cell_type": "code",
      "execution_count": null,
      "metadata": {
        "id": "IOY5cvYZUav9"
      },
      "outputs": [],
      "source": [
        "# Slicing for the file name to get the class name then making one-hot encoding for labels\n",
        "y=np.array([f.split('.')[0] for f in listdir(train_path) if isfile(join(train_path, f))])\n",
        "y=np.array(pd.get_dummies(y))\n",
        "\n"
      ]
    },
    {
      "cell_type": "code",
      "execution_count": null,
      "metadata": {
        "id": "tTjP9JiIUav9"
      },
      "outputs": [],
      "source": [
        "x_train,x_val,y_train,y_val=train_test_split(x,y,test_size=0.2,random_state=0)"
      ]
    },
    {
      "cell_type": "code",
      "execution_count": null,
      "metadata": {
        "id": "4G_T-VzsUav-",
        "outputId": "fb47b8a9-ddb6-493b-a64f-746dcb2c8199"
      },
      "outputs": [
        {
          "name": "stderr",
          "output_type": "stream",
          "text": [
            "C:\\ProgramData\\Anaconda3\\lib\\site-packages\\sklearn\\utils\\validation.py:70: FutureWarning: Pass classes=[ 0  1  2  3  4  5  6  7  8  9 10 11 12 13 14 15] as keyword args. From version 1.0 (renaming of 0.25) passing these as positional arguments will result in an error\n",
            "  warnings.warn(f\"Pass {args_msg} as keyword args. From version \"\n"
          ]
        }
      ],
      "source": [
        "#oversampling for features data because dataset was unbalanced\n",
        "oversample = RandomOverSampler(sampling_strategy='minority')\n",
        "x_over, y_over = oversample.fit_resample(x_train.reshape(len(x_train),-1), y_train)\n",
        "x_over=x_over.reshape(len(x_over),128,44,1)"
      ]
    },
    {
      "cell_type": "code",
      "execution_count": null,
      "metadata": {
        "id": "-lNVsaSbUav_",
        "outputId": "55f931a3-9d5b-4d4e-9455-9a4e0aaa751f"
      },
      "outputs": [
        {
          "data": {
            "text/plain": [
              "(462, 128, 44, 1)"
            ]
          },
          "execution_count": 10,
          "metadata": {},
          "output_type": "execute_result"
        }
      ],
      "source": [
        "x_over.shape"
      ]
    },
    {
      "cell_type": "code",
      "execution_count": null,
      "metadata": {
        "id": "Yf0w3etSUav_",
        "outputId": "233aa51d-8bd6-4f69-a3a3-e64bcd2e2ec4"
      },
      "outputs": [
        {
          "name": "stdout",
          "output_type": "stream",
          "text": [
            "Epoch 1/10\n",
            "15/15 [==============================] - 3s 182ms/step - loss: 17.0198 - accuracy: 0.6255 - val_loss: 5.0898 - val_accuracy: 0.6829\n",
            "Epoch 2/10\n",
            "15/15 [==============================] - 3s 195ms/step - loss: 4.0814 - accuracy: 0.7316 - val_loss: 2.1563 - val_accuracy: 0.6585\n",
            "Epoch 3/10\n",
            "15/15 [==============================] - 3s 192ms/step - loss: 1.2691 - accuracy: 0.7641 - val_loss: 1.7816 - val_accuracy: 0.7073\n",
            "Epoch 4/10\n",
            "15/15 [==============================] - 3s 192ms/step - loss: 1.1359 - accuracy: 0.7511 - val_loss: 1.6226 - val_accuracy: 0.6707\n",
            "Epoch 5/10\n",
            "15/15 [==============================] - 3s 192ms/step - loss: 0.8592 - accuracy: 0.7965 - val_loss: 1.6872 - val_accuracy: 0.6829\n",
            "Epoch 6/10\n",
            "15/15 [==============================] - 3s 211ms/step - loss: 0.6893 - accuracy: 0.7987 - val_loss: 1.4958 - val_accuracy: 0.7439\n",
            "Epoch 7/10\n",
            "15/15 [==============================] - 3s 205ms/step - loss: 0.7455 - accuracy: 0.8074 - val_loss: 1.2718 - val_accuracy: 0.7561\n",
            "Epoch 8/10\n",
            "15/15 [==============================] - 3s 209ms/step - loss: 0.5700 - accuracy: 0.7879 - val_loss: 1.6015 - val_accuracy: 0.6951\n",
            "Epoch 9/10\n",
            "15/15 [==============================] - 3s 211ms/step - loss: 0.6408 - accuracy: 0.8312 - val_loss: 1.1284 - val_accuracy: 0.7195\n",
            "Epoch 10/10\n",
            "15/15 [==============================] - 3s 205ms/step - loss: 0.5508 - accuracy: 0.8398 - val_loss: 1.0149 - val_accuracy: 0.7805\n"
          ]
        },
        {
          "data": {
            "text/plain": [
              "<keras.callbacks.History at 0x2dfc1ba1d30>"
            ]
          },
          "execution_count": 11,
          "metadata": {},
          "output_type": "execute_result"
        }
      ],
      "source": [
        "\n",
        "callback = tf.keras.callbacks.EarlyStopping(monitor='val_accuracy', patience=3)\n",
        "\n",
        "model=keras.Sequential([\n",
        "    #cnn\n",
        "    layers.Conv2D(filters=32,kernel_size=(3,3),activation='relu',input_shape=(128,44,1)),\n",
        "    keras.layers.Dropout(0.4),\n",
        "    layers.MaxPooling2D((2,2)),\n",
        "    layers.Conv2D(filters=64,kernel_size=(3,3),activation='relu'),\n",
        "    keras.layers.Dropout(0.4),\n",
        "    layers.MaxPooling2D((2,2)),\n",
        "    \n",
        "    #dense\n",
        "    layers.Flatten(),\n",
        "    layers.Dense(64,activation='relu'),\n",
        "    keras.layers.Dropout(0.4),\n",
        "    layers.Dense(16,activation='softmax')\n",
        "    \n",
        "])\n",
        "model.compile(optimizer='adam',\n",
        "            loss='categorical_crossentropy',\n",
        "            metrics=['accuracy'])\n",
        "model.fit(x_over,y_over, epochs=10, validation_data=(x_val, y_val),callbacks=[callback])\n"
      ]
    },
    {
      "cell_type": "code",
      "execution_count": null,
      "metadata": {
        "id": "ZGW66EuqUawA",
        "outputId": "8d78849a-7d5e-45ad-97d8-573ce8f1a4d2"
      },
      "outputs": [
        {
          "data": {
            "text/plain": [
              "<keras.callbacks.EarlyStopping at 0x1b73212baf0>"
            ]
          },
          "execution_count": 665,
          "metadata": {},
          "output_type": "execute_result"
        }
      ],
      "source": [
        ""
      ]
    },
    {
      "cell_type": "code",
      "execution_count": null,
      "metadata": {
        "id": "ytSDpgvwUawA",
        "outputId": "c0269f49-f651-4afc-b0b1-290bdd98655a"
      },
      "outputs": [
        {
          "data": {
            "text/plain": [
              "array([[4.1424915e-02, 2.6661947e-01, 1.1676506e-02, ..., 5.6115179e-03,\n",
              "        1.4773860e-02, 6.1642868e-04],\n",
              "       [5.0713264e-05, 7.8531597e-03, 8.1049884e-04, ..., 1.1979738e-03,\n",
              "        1.4750972e-02, 2.2595678e-03],\n",
              "       [8.1568267e-03, 2.5052436e-02, 1.5371993e-02, ..., 3.5901412e-03,\n",
              "        8.0203693e-03, 1.0902823e-01],\n",
              "       ...,\n",
              "       [2.1205142e-07, 2.4664440e-04, 1.8867168e-11, ..., 5.7249540e-08,\n",
              "        1.5243929e-08, 7.2283345e-14],\n",
              "       [6.9529214e-03, 3.4139387e-02, 2.1249756e-02, ..., 2.6499940e-02,\n",
              "        1.6465783e-02, 2.8134674e-02],\n",
              "       [2.7536985e-03, 1.6786311e-02, 2.8536087e-02, ..., 1.1113281e-02,\n",
              "        1.0527865e-02, 4.5975032e-03]], dtype=float32)"
            ]
          },
          "execution_count": 12,
          "metadata": {},
          "output_type": "execute_result"
        }
      ],
      "source": [
        "model.predict(x_test)"
      ]
    },
    {
      "cell_type": "code",
      "execution_count": null,
      "metadata": {
        "id": "qF6bgrJ0UawB"
      },
      "outputs": [],
      "source": [
        "def predictSound(soundFile):\n",
        "    x=features_extractorcnn(soundFile)\n",
        "    i=np.argmax(model.predict(x[np.newaxis,...]))\n",
        "    return classes[i]\n",
        "    \n",
        "    "
      ]
    },
    {
      "cell_type": "code",
      "execution_count": null,
      "metadata": {
        "id": "_gAznyJfUawB",
        "outputId": "ddf5ab39-be53-4133-be43-c0cecbd69208"
      },
      "outputs": [
        {
          "data": {
            "text/plain": [
              "'blue'"
            ]
          },
          "execution_count": 152,
          "metadata": {},
          "output_type": "execute_result"
        }
      ],
      "source": [
        "predictSound('blue.unknown.2uelmobe.ingestion-5b9bcd5b54-nclkz.wav')"
      ]
    },
    {
      "cell_type": "code",
      "execution_count": null,
      "metadata": {
        "id": "bJY7f3LyUawB"
      },
      "outputs": [],
      "source": [
        "#The function allow you to record an audio and return its features\n",
        "def record():\n",
        "    fs=22050\n",
        "    duration = 1  # seconds\n",
        "    print (\"Recording Audio\")\n",
        "    myrecording = sd.rec(duration * fs, samplerate=fs, channels=1,dtype='float64')\n",
        "    sd.wait()\n",
        "    print (\"Audio recording complete , Play Audio\")\n",
        "    write('output.wav', fs, myrecording)\n",
        "    x=features_extractorcnn('output.wav')\n",
        "    os.remove(\"output.wav\")\n",
        "    sd.play(myrecording,fs)\n",
        "    return x"
      ]
    },
    {
      "cell_type": "code",
      "execution_count": null,
      "metadata": {
        "id": "uiyE4wLcUawC",
        "outputId": "23bea93d-c115-4a79-bc48-7b06da40b294"
      },
      "outputs": [
        {
          "name": "stdout",
          "output_type": "stream",
          "text": [
            "Recording Audio\n",
            "Audio recording complete , Play Audio\n"
          ]
        }
      ],
      "source": [
        ""
      ]
    },
    {
      "cell_type": "code",
      "execution_count": null,
      "metadata": {
        "id": "nWrxre2IUawF"
      },
      "outputs": [],
      "source": [
        "#the function call the record function and return prediction class for the record\n",
        "def predictRecord():\n",
        "    \n",
        "    x=record() \n",
        "    i=np.argmax(model.predict(x[np.newaxis,...]))\n",
        "    return classes[i]"
      ]
    },
    {
      "cell_type": "code",
      "execution_count": null,
      "metadata": {
        "id": "6CSEt9orUawF",
        "outputId": "2a824c9a-f539-4175-9a18-e1e3a956f78f"
      },
      "outputs": [
        {
          "name": "stdout",
          "output_type": "stream",
          "text": [
            "Recording Audio\n",
            "Audio recording complete , Play Audio\n"
          ]
        },
        {
          "data": {
            "text/plain": [
              "'off'"
            ]
          },
          "execution_count": 150,
          "metadata": {},
          "output_type": "execute_result"
        }
      ],
      "source": [
        "predictRecord()"
      ]
    },
    {
      "cell_type": "code",
      "execution_count": null,
      "metadata": {
        "id": "jYEG6xg0UawF"
      },
      "outputs": [],
      "source": [
        ""
      ]
    }
  ],
  "metadata": {
    "kernelspec": {
      "display_name": "Python 3",
      "language": "python",
      "name": "python3"
    },
    "language_info": {
      "codemirror_mode": {
        "name": "ipython",
        "version": 3
      },
      "file_extension": ".py",
      "mimetype": "text/x-python",
      "name": "python",
      "nbconvert_exporter": "python",
      "pygments_lexer": "ipython3",
      "version": "3.8.5"
    },
    "colab": {
      "name": "CNN-mobilnet.ipynb",
      "provenance": [],
      "collapsed_sections": []
    }
  },
  "nbformat": 4,
  "nbformat_minor": 0
}